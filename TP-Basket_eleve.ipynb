{
 "cells": [
  {
   "cell_type": "markdown",
   "id": "89453b0e",
   "metadata": {},
   "source": [
    "<h1><center>TP : Cue3, le robot plus fort que les champions de basket</center></h1>\n",
    "<img src=\"https://media.giphy.com/media/bxt40W1QkBh0DQp3em/giphy.gif\" \n",
    "     width=\"500\"\n",
    "     height=\"500\"\n",
    "     style=\"float:left;margin:10px\">\n",
    "\n",
    "**Cue3** est un robot basketteur construit par l'entreprise japonaise **Toyota**. En 2018, Cue3 est entré dans le Guinness Book des records en réussissant à enchainer 2020 paniers d'affilée. (voir vidéo du premier panier à gauche) <br>\n",
    "<br>\n",
    "\n",
    "\n",
    "<h2><center>Problématique: Comment les ingénieurs de Toyota réussissent-ils à programmer le robot pour prévoir la trajectoire du ballon ?</center></h2>\n",
    "<br>\n",
    "Nous allons voir dans ce TP que la réponse à cette question réside dans <b>la Seconde loi de Newton</b> ...\n",
    "<br>\n",
    "<br> <b>Rappel :</b> Seconde Loi de Newton (1687)\n",
    "<center> $\\vec{F}=m\\times \\frac{\\Delta \\vec{v}}{\\Delta t}$</center>\n",
    "<br>\n",
    "<br>\n",
    "<b>Données </b>:<br>\n",
    "-La masse du ballon de basket vaut 600g.<br>\n",
    "-La durée séparant 2 images successives de la vidéo vaut 40ms<br>\n",
    "-L'intensité de pesanteur vaut $g = 9,81 N\\cdot kg^{-1}$.<br>"
   ]
  },
  {
   "cell_type": "markdown",
   "id": "ea4ee4e3",
   "metadata": {},
   "source": [
    "<h2> PARTIE 1 : Position initiale, vitesse initiale et force résultante </h2>\n",
    "<br>\n",
    "\n",
    "<b>Travail 1 :</b> Complète le code ci-dessous lorsqu'il est écrit \"A COMPLETER\" en bout de ligne. <br>\n",
    "<b>Indices :</b> Tu trouveras des indices sur le polycopié du TP disponible [ici](https://docs.google.com/document/d/11na2icyQSVRgtP60xLjHa_It67-a33fe4w-3-2Ih86Y/edit?usp=sharing). "
   ]
  },
  {
   "cell_type": "code",
   "execution_count": null,
   "id": "8aebaceb",
   "metadata": {
    "scrolled": true
   },
   "outputs": [],
   "source": [
    "## ================= SECTION 0 : IMPORTATION DES EXTENSIONS (ne pas modifier) =======================\n",
    "from vecteur import Vecteur                                                                   #ne pas modifier       Ligne1\n",
    "from modelisation import Modelisation                                                         #ne pas modifier       Ligne2\n",
    "from fonctions import cos, sin  ,tan                                                          #ne pas modifier       Ligne2b\n",
    "import cv2                                                                                    #ne pas modifier       Ligne3\n",
    "modelisation = Modelisation()                                                                 #ne pas modifier       Ligne4\n",
    "\n",
    "\n",
    "#===================SECTION 1 : POSITION INITIALE DU BALON (x, y) =========================\n",
    "x  =  ...           # Position initiale (en m) du ballon (regarde les indices du polycopié !)         (A COMPLETER)  Ligne5\n",
    "y  =  ...          # Position initiale (en m) du ballon (regarde les indices du polycopié !)          (A COMPLETER)  Ligne6\n",
    "OM = Vecteur(x,y) # vecteur position initial                                                  #ne pas modifier       Ligne7\n",
    "\n",
    "#===================SECTION 2 : VITESSE INITIALE DU BALLON (vx, vy) =========================\n",
    "vx =  ...   # vitesse initiale en m/s (composante suivant l'axe des x)                                (A COMPLETER)  Ligne8\n",
    "vy =  ...   # vitesse initiale en m/s (composante suivant l'axe des y)                                (A COMPLETER)  Ligne9\n",
    "v = Vecteur(vx,vy) # Vecteur vitesse                                                          #ne pas modifier       Ligne10\n",
    "\n",
    "#===================SECTION 3 : BILAN DES FORCES EXERCEES SUR LE BALLON =========================\n",
    "m = ...   #masse du ballon de basket en kg                                                            (A COMPLETER)  Ligne11\n",
    "g = ...   #Intensité de pesanteur en N/kg                                                             (A COMPLETER)  Ligne12\n",
    "\n",
    "F_x = ...       # Force résultante en N (composante suivant l'axe des x)                              (A COMPLETER)  Ligne13\n",
    "F_y = ...       # Force résultante en N (composante suivant l'axe des y)                              (A COMPLETER)  Ligne14\n",
    "F   = Vecteur(... ,... ) # Vecteur force résultante                                                   (A COMPLETER)  Ligne15\n",
    "\n",
    "modelisation.show(OM,v,F)   #Affichage des résultats                                          #ne pas modifier       Ligne16\n",
    "\n",
    "#===================SECTION 4 : Sauvegarde des paramètres NE PAS MODIFIER =========================\n",
    "OMi =OM  #sauvegarde du vecteur position initiale dans la variable \"OMi\"                      #ne pas modifier       Ligne17                        \n",
    "Fi = F   #sauvegarde du vecteur force résultante initiale dans la variable \"Fi\"               #ne pas modifier       Ligne18\n",
    "vi = v   #sauvegarde du vecteur vitesse initiale dans la variable \"vi\"                        #ne pas modifier       Ligne19"
   ]
  },
  {
   "cell_type": "markdown",
   "id": "44557e4b",
   "metadata": {},
   "source": [
    "<b>Travail 2 :</b> Une fois que tu as complété le code ci-dessus, exécute le.  Pour cela, il faut cliquer quelque part dans la fenêtre du code puis cliquer sur la flèche en haut de la page: \n",
    "<img src=\"img/fleche.png\" \n",
    "     width=\"300\"\n",
    "     height=\"300\"\n",
    "     style=\"float:left;margin:10px\">"
   ]
  },
  {
   "cell_type": "markdown",
   "id": "1e701639",
   "metadata": {},
   "source": [
    "<b>Travail 3 :</b> Vérifie que sur l'image qui est apparue, le vecteur vitesse et le vecteur force sont correctement positionné. Si ce n'est pas le cas, tu as fait une erreur dans le code..."
   ]
  },
  {
   "cell_type": "markdown",
   "id": "586a69c1",
   "metadata": {},
   "source": [
    "<h2> PARTIE 2 : Prévision des positions suivantes grâce à la seconde loi de Newton </h2>"
   ]
  },
  {
   "cell_type": "markdown",
   "id": "5b26bf35",
   "metadata": {},
   "source": [
    "<b> Travail 4 :</b> Compléte le code ci-dessous pour prévoir la position suivante.\n",
    "<b> Indices </b> : Des indices sont disponibles sur le polycopié"
   ]
  },
  {
   "cell_type": "code",
   "execution_count": null,
   "id": "33c97e68",
   "metadata": {
    "scrolled": true
   },
   "outputs": [],
   "source": [
    "#=====================SECTION A- CHARGEMENT DES PARAMETRES INITIAUX (NE PAS MODIFIER)================\n",
    "OM = OMi                                                                                  #ne pas modifier         Ligne20\n",
    "F  = Fi                                                                                   #ne pas modifier         Ligne21\n",
    "v  = vi                                                                                   #ne pas modifier         Ligne22\n",
    "modelisation = Modelisation()                                                             #ne pas modifier         Ligne23\n",
    "modelisation.show(OM,v,F)                                                                 #ne pas modifier         Ligne24\n",
    "\n",
    "#=====================SECTION B- CALCUL DES POSITIONS ET VITESSES SUIVANTES GRACE A LA SECONDE LOI DE NEWTON\n",
    "\n",
    "deltat = ...    #durée (en seconde) entre 2 images successives                            (A COMPLETER)            Ligne25\n",
    "\n",
    "for i in range(38): #On répète pour les 38 images de la vidéos       #ne pas modifier                              Ligne26\n",
    "    v = v + ...                      # vitesse suivante = vitesse précédente + ......... # (A COMPLETER)           Ligne27\n",
    "    \n",
    "    OM = OM + ...                    # position suivante = position précédente + ......... # (A COMPLETER)         Ligne28                                          \n",
    "    \n",
    "    modelisation.show(OM,v,F) # Affichage des positions successives                    (ne pas modifier)           Ligne29"
   ]
  },
  {
   "cell_type": "markdown",
   "id": "aa3e6172",
   "metadata": {},
   "source": [
    "<h2>PARTIE 3 : Prise en compte du frottement de l'air sur le ballon</h2>\n",
    "<img src=\"img/magnus.png\" \n",
    "     width=\"300\"\n",
    "     height=\"300\"\n",
    "     style=\"float:left;margin:10px\">\n",
    "<br>\n",
    "<br>\n",
    "On remarque que la prévision théorique est un peu éloignée de l'expérience. En effet, nous n'avons pas pris en compte les forces de frottement de l'air sur le ballon. <br> Le robot Cue3 donne un petit effet sur le ballon pour le faire entrer en rotation dans l'air(voir schéma à gauche). Cet effet a pour conséquence, de créer <u>une force supplémentaire vers le bas.</u> C'est ce qu'on appelle <b>l'effet Magnus</b>. <u>Cette nouvelle force a pour valeur 1/10e de la valeur du poids du ballon</u>. \n"
   ]
  },
  {
   "cell_type": "markdown",
   "id": "15db33bb",
   "metadata": {},
   "source": [
    "<b>Travail 5 :</b> Complète le code ci dessous en modifiant la valeur du vecteur $\\vec{F}$ pour prendre en compte les forces de frottement de l'air."
   ]
  },
  {
   "cell_type": "code",
   "execution_count": null,
   "id": "7e0d0046",
   "metadata": {},
   "outputs": [],
   "source": [
    "#=====================SECTION A- CHARGEMENT DES PARAMETRES INITIAUX (NE PAS MODIFIER)================\n",
    "OM = OMi                                                                                  #ne pas modifier\n",
    "F  = Fi + ...            #Ajouter la force de frottement de l'air au poids Fi             (A COMPLETER)\n",
    "v  = vi                                                                                   #ne pas modifier\n",
    "modelisation = Modelisation()                                                             #ne pas modifier\n",
    "modelisation.show(OM,v,F)                                                                 #ne pas modifier \n",
    "\n",
    "#=====================SECTION B- CALCUL DES POSITIONS ET VITESSES SUIVANTES GRACE A LA SECONDE LOI DE NEWTON\n",
    "\n",
    "deltat = ...   #durée (en seconde) entre 2 images successives                            (A COMPLETER IDENTIQUE A PARTIE 2)          \n",
    "\n",
    "for i in range(38): #On répète pour les 38 images de la vidéos       #ne pas modifier\n",
    "    v = v + ...                    # vitesse suivante = vitesse précédente + ......... # (A COMPLETER IDENTIQUE A PARTIE 2) \n",
    "    \n",
    "    OM = OM + ...                  # position suivante = position précédente + ......... # (A COMPLETER IDENTIQUE A PARTIE 2)                                                  \n",
    "    \n",
    "    modelisation.show(OM,v,F)      # Affichage des positions successives                    (ne pas modifier)"
   ]
  }
 ],
 "metadata": {
  "celltoolbar": "Format de la Cellule Texte Brut",
  "kernelspec": {
   "display_name": "Python 3 (ipykernel)",
   "language": "python",
   "name": "python3"
  },
  "language_info": {
   "codemirror_mode": {
    "name": "ipython",
    "version": 3
   },
   "file_extension": ".py",
   "mimetype": "text/x-python",
   "name": "python",
   "nbconvert_exporter": "python",
   "pygments_lexer": "ipython3",
   "version": "3.9.12"
  }
 },
 "nbformat": 4,
 "nbformat_minor": 5
}
